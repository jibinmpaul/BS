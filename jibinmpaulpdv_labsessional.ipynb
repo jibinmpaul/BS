{
 "cells": [
  {
   "cell_type": "code",
   "execution_count": 3,
   "metadata": {},
   "outputs": [
    {
     "name": "stdout",
     "output_type": "stream",
     "text": [
      "Requirement already satisfied: fake_useragent in c:\\users\\hp\\anaconda3\\lib\\site-packages (0.1.11)\n",
      "Requirement already satisfied: bs4 in c:\\users\\hp\\anaconda3\\lib\\site-packages (0.0.1)\n",
      "Requirement already satisfied: beautifulsoup4 in c:\\users\\hp\\anaconda3\\lib\\site-packages (from bs4) (4.9.3)\n",
      "Requirement already satisfied: soupsieve>1.2 in c:\\users\\hp\\anaconda3\\lib\\site-packages (from beautifulsoup4->bs4) (2.1)\n",
      "Requirement already satisfied: requests in c:\\users\\hp\\anaconda3\\lib\\site-packages (2.25.1)\n",
      "Requirement already satisfied: urllib3<1.27,>=1.21.1 in c:\\users\\hp\\anaconda3\\lib\\site-packages (from requests) (1.26.2)\n",
      "Requirement already satisfied: idna<3,>=2.5 in c:\\users\\hp\\anaconda3\\lib\\site-packages (from requests) (2.10)\n",
      "Requirement already satisfied: chardet<5,>=3.0.2 in c:\\users\\hp\\anaconda3\\lib\\site-packages (from requests) (4.0.0)\n",
      "Requirement already satisfied: certifi>=2017.4.17 in c:\\users\\hp\\anaconda3\\lib\\site-packages (from requests) (2020.12.5)\n"
     ]
    }
   ],
   "source": [
    "!pip install fake_useragent\n",
    "!pip install bs4\n",
    "!pip install requests"
   ]
  },
  {
   "cell_type": "code",
   "execution_count": 14,
   "metadata": {},
   "outputs": [],
   "source": [
    "import requests \n",
    "from bs4 import BeautifulSoup\n",
    "import pandas as pd\n",
    "\n",
    "from fake_useragent import UserAgent\n",
    "user_agent = UserAgent()\n",
    "Baseurl = 'https://www.amazon.in/s?i=electronics&bbn=1389401031&rh=n%3A1389401031%2Cp_89%3ARedmi%7CSamsung&dc&page=3&qid=1611370061&rnid=3837712031&ref=sr_pg_' \n",
    "\n",
    "ModelName_list = []\n",
    "price_list = []\n",
    "rating_list = []\n",
    "Manufacturer_list = []\n",
    "\n",
    "for page_no in range(1, 30):\n",
    "    url = Baseurl+ str(page_no)\n",
    "    page = requests.get(url,headers={'user-agent':user_agent.chrome})\n",
    "    soup = BeautifulSoup(page.content, 'html.parser')\n",
    "    \n",
    "    \n",
    "    ModelName = soup.select('.a-color-base.a-text-normal')\n",
    "    price = soup.select('.a-price-whole')\n",
    "    rating = soup.select('span.a-icon-alt')\n",
    "    \n",
    "    for i in range(len(ModelName)):\n",
    "        ModelName_list.append(ModelName[i].get_text())\n",
    "        price_list.append(price[i].get_text())\n",
    "        rating_list.append(rating[i].get_text()[0])\n",
    "        if 'redmi' in  ModelName[i].get_text().lower(): \n",
    "            Manufacturer_list.append('redmi')\n",
    "        elif 'samsung' in  ModelName[i].get_text().lower():\n",
    "            Manufacturer_list.append('samsung')\n",
    "        else:\n",
    "            Manufacturer_list.append('')\n",
    "\n",
    "df = pd.DataFrame(data={\"ModelName\": ModelName_list, \"price\": price_list, \"rating\": rating_list, \"Manufacturer\": Manufacturer_list })\n",
    "df.to_csv(\"Mobile.csv\", sep=',',index=False)\n",
    "\n"
   ]
  },
  {
   "cell_type": "code",
   "execution_count": null,
   "metadata": {},
   "outputs": [],
   "source": []
  }
 ],
 "metadata": {
  "kernelspec": {
   "display_name": "Python 3",
   "language": "python",
   "name": "python3"
  },
  "language_info": {
   "codemirror_mode": {
    "name": "ipython",
    "version": 3
   },
   "file_extension": ".py",
   "mimetype": "text/x-python",
   "name": "python",
   "nbconvert_exporter": "python",
   "pygments_lexer": "ipython3",
   "version": "3.8.5"
  }
 },
 "nbformat": 4,
 "nbformat_minor": 4
}
